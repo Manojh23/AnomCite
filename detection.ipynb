{
 "cells": [
  {
   "cell_type": "code",
   "execution_count": 1,
   "metadata": {},
   "outputs": [
    {
     "name": "stdout",
     "output_type": "stream",
     "text": [
      "Collecting openai\n",
      "  Downloading openai-1.54.3-py3-none-any.whl.metadata (24 kB)\n",
      "Requirement already satisfied: anyio<5,>=3.5.0 in c:\\users\\gaurav b v\\anaconda3\\envs\\myenv\\lib\\site-packages (from openai) (4.4.0)\n",
      "Collecting distro<2,>=1.7.0 (from openai)\n",
      "  Downloading distro-1.9.0-py3-none-any.whl.metadata (6.8 kB)\n",
      "Requirement already satisfied: httpx<1,>=0.23.0 in c:\\users\\gaurav b v\\anaconda3\\envs\\myenv\\lib\\site-packages (from openai) (0.27.0)\n",
      "Collecting jiter<1,>=0.4.0 (from openai)\n",
      "  Downloading jiter-0.7.0-cp312-none-win_amd64.whl.metadata (5.3 kB)\n",
      "Requirement already satisfied: pydantic<3,>=1.9.0 in c:\\users\\gaurav b v\\anaconda3\\envs\\myenv\\lib\\site-packages (from openai) (2.8.2)\n",
      "Requirement already satisfied: sniffio in c:\\users\\gaurav b v\\anaconda3\\envs\\myenv\\lib\\site-packages (from openai) (1.3.1)\n",
      "Requirement already satisfied: tqdm>4 in c:\\users\\gaurav b v\\anaconda3\\envs\\myenv\\lib\\site-packages (from openai) (4.66.5)\n",
      "Requirement already satisfied: typing-extensions<5,>=4.11 in c:\\users\\gaurav b v\\anaconda3\\envs\\myenv\\lib\\site-packages (from openai) (4.12.2)\n",
      "Requirement already satisfied: idna>=2.8 in c:\\users\\gaurav b v\\anaconda3\\envs\\myenv\\lib\\site-packages (from anyio<5,>=3.5.0->openai) (2.10)\n",
      "Requirement already satisfied: certifi in c:\\users\\gaurav b v\\anaconda3\\envs\\myenv\\lib\\site-packages (from httpx<1,>=0.23.0->openai) (2024.7.4)\n",
      "Requirement already satisfied: httpcore==1.* in c:\\users\\gaurav b v\\anaconda3\\envs\\myenv\\lib\\site-packages (from httpx<1,>=0.23.0->openai) (1.0.5)\n",
      "Requirement already satisfied: h11<0.15,>=0.13 in c:\\users\\gaurav b v\\anaconda3\\envs\\myenv\\lib\\site-packages (from httpcore==1.*->httpx<1,>=0.23.0->openai) (0.14.0)\n",
      "Requirement already satisfied: annotated-types>=0.4.0 in c:\\users\\gaurav b v\\anaconda3\\envs\\myenv\\lib\\site-packages (from pydantic<3,>=1.9.0->openai) (0.7.0)\n",
      "Requirement already satisfied: pydantic-core==2.20.1 in c:\\users\\gaurav b v\\anaconda3\\envs\\myenv\\lib\\site-packages (from pydantic<3,>=1.9.0->openai) (2.20.1)\n",
      "Requirement already satisfied: colorama in c:\\users\\gaurav b v\\anaconda3\\envs\\myenv\\lib\\site-packages (from tqdm>4->openai) (0.4.6)\n",
      "Downloading openai-1.54.3-py3-none-any.whl (389 kB)\n",
      "Downloading distro-1.9.0-py3-none-any.whl (20 kB)\n",
      "Downloading jiter-0.7.0-cp312-none-win_amd64.whl (199 kB)\n",
      "Installing collected packages: jiter, distro, openai\n",
      "Successfully installed distro-1.9.0 jiter-0.7.0 openai-1.54.3\n"
     ]
    }
   ],
   "source": [
    "!pip install openai"
   ]
  },
  {
   "cell_type": "code",
   "execution_count": null,
   "metadata": {},
   "outputs": [
    {
     "name": "stdout",
     "output_type": "stream",
     "text": [
      "ChatCompletionMessage(content=\"In the provided passage, Reference [26] is used in the following context:\\n\\n- The citation is used to explain why SPT (Shortest Path Tree) tends to choose shorter edges at higher powers, thus influencing the choice of the next forwarding neighbor. This characteristic relates to the comparison between LocalHeur and DeltaHeur algorithms.\\n\\nDetermining whether this citation is essential or non-essential:\\n\\n- The citation seems to provide background information about why certain algorithms behave as described (SPT choosing shorter edges at higher powers) and leads to observations related to the LocalHeur algorithm's performance in retaining power choices. However, this reference does not directly engage in the critical evaluation or comparison of the main contributions or findings of the passage. It provides a secondary explanation for a phenomenon observed in the results but does not influence the core analysis or conclusions about LocalHeur or DeltaHeur.\\n\\nTherefore, the citation in this context is considered **non-essential** for the critical evaluation or core analysis of the passage.\", refusal=None, role='assistant', audio=None, function_call=None, tool_calls=None)\n"
     ]
    }
   ],
   "source": [
    "from openai import OpenAI\n",
    "\n",
    "client = OpenAI(api_key='XYZ')\n",
    "completion = client.chat.completions.create(\n",
    "    model=\"gpt-4o\",\n",
    "    messages=[\n",
    "        {\"role\": \"system\", \"content\": \"You are a helpful assistant.\"},\n",
    "        {\n",
    "            \"role\": \"user\",\n",
    "            \"content\": \"\"\"\n",
    "            Identify the contexts where the specified reference is used in the given passage. For each context, determine if the citation is essential or non-essential for comparison purposes.\n",
    "            Essential: Consider the citation essential if it is used to critically evaluate, compare performance, or highlight methodological differences directly related to the main contributions or findings of the passage. Essential comparisons should influence the core analysis, conclusions, or novelty of the work.\n",
    "            \n",
    "            Non-Essential: Consider the citation non-essential if it merely acknowledges the existence of similar work without contributing to the critical evaluation or influencing the core analysis or methodology.\n",
    "\n",
    "            Reference [26]: On a locally minimum cost forwarding game\n",
    "            Passage:The stretch results of LocalHeur outperforms DeltaHeur almost always by an additive factor of 2. The cost of achieving this is minimal, considering that in all cases only at most 10 percent of the nodes deviate from their best-response (Table 1) and the deviation from best-response is only about 3 percent, which can be inferred by the constant shown in the average closeness to equilibrium plot (Figure 6). This is consistent with Theorem 7..1. For power p = 2, the performance becomes comparable to DeltaHeur, but still there are only 10 percent of nodes deviating, and the worst case deviation is a very slowly growing function consistent with the theoretical upper-bound from Theorem 7..2. An explanation for comparable stretch and diameter results upon powering the distance is that SPT tends to choose shorter edges Algorithms 2009, 2 1319 at higher powers [26] thus tending towards closer neighbor, while the choice of the next forwarding neighbor in the case of LocalHeur remains the same for all powers. For the random link models under both social cost functions, both DeltaHeur and MST prices appear growing, though for the stretch-based pricing (Figure 8), again MST appears growing asymptotically faster, and there is too much variance in the DeltaHeur plot to make further inferences. The primary consistent observation applying here is that the DeltaHeur is still an improvement over MST (whether by a constant or asymptotically growing factor), and that the md-prices are still quite small. Figure 5. Plot of stretch and diameter for the MST, DeltaHeur and LocalHeur case when power = 1.\n",
    "            \"\"\"\n",
    "        }\n",
    "    ]\n",
    ")\n",
    "\n",
    "print(completion.choices[0].message)"
   ]
  },
  {
   "cell_type": "code",
   "execution_count": 18,
   "metadata": {},
   "outputs": [
    {
     "name": "stdout",
     "output_type": "stream",
     "text": [
      "ChatCompletionMessage(content=\"In the provided passage, Reference [26] is used in the following context:\\n\\n- The citation is used to explain why SPT (Shortest Path Tree) tends to choose shorter edges at higher powers, thus influencing the choice of the next forwarding neighbor. This characteristic relates to the comparison between LocalHeur and DeltaHeur algorithms.\\n\\nDetermining whether this citation is essential or non-essential:\\n\\n- The citation seems to provide background information about why certain algorithms behave as described (SPT choosing shorter edges at higher powers) and leads to observations related to the LocalHeur algorithm's performance in retaining power choices. However, this reference does not directly engage in the critical evaluation or comparison of the main contributions or findings of the passage. It provides a secondary explanation for a phenomenon observed in the results but does not influence the core analysis or conclusions about LocalHeur or DeltaHeur.\\n\\nTherefore, the citation in this context is considered **non-essential** for the critical evaluation or core analysis of the passage.\", refusal=None, role='assistant', audio=None, function_call=None, tool_calls=None)\n"
     ]
    }
   ],
   "source": [
    "print(str(completion.choices[0].message))"
   ]
  },
  {
   "cell_type": "code",
   "execution_count": null,
   "metadata": {},
   "outputs": [],
   "source": [
    "def anamalous_check(text):\n",
    "    client = OpenAI(api_key='XYZ')\n",
    "\n",
    "    completion = client.chat.completions.create(\n",
    "        model=\"gpt-4o\",\n",
    "        messages=[\n",
    "            {\"role\": \"system\", \"content\": \"You are a helpful assistant.\"},\n",
    "            {\n",
    "                \"role\": \"user\",\n",
    "                \"content\": \"\"\"\n",
    "                Analyze the specified reference in the passage to identify all instances where it is cited. For each instance, determine if the citation is essential or non-essential to the passage's main contributions or findings, based on its role in the comparison between the reference and the source work.\n",
    "\n",
    "                Essential: Consider the citation essential if it is used to critically evaluate, compare performance, or highlight methodological differences directly related to the main contributions or findings of the passage. Essential comparisons should influence the core analysis, conclusions, or novelty of the work.\n",
    "                \n",
    "                Non-Essential: Consider the citation non-essential if it merely acknowledges the existence of similar work without contributing to the critical evaluation or influencing the core analysis or methodology.\n",
    "                \n",
    "\n",
    "                \"\"\"+text\n",
    "            }\n",
    "        ]\n",
    "    )\n",
    "    return completion.choices[0].message"
   ]
  },
  {
   "cell_type": "code",
   "execution_count": null,
   "metadata": {},
   "outputs": [
    {
     "name": "stderr",
     "output_type": "stream",
     "text": [
      "<>:1: SyntaxWarning: invalid escape sequence '\\ '\n",
      "<>:1: SyntaxWarning: invalid escape sequence '\\ '\n",
      "C:\\Users\\Gaurav B V\\AppData\\Local\\Temp\\ipykernel_38824\\3155044346.py:1: SyntaxWarning: invalid escape sequence '\\ '\n",
      "  text=\"\"\"\n"
     ]
    }
   ],
   "source": [
    "\n",
    "#3\n",
    "text=\"\"\"\n",
    "Reference [8]: Nash Equilibria in Discrete Routing Games with Convex Latency Functions. \n",
    "\n",
    "Passage:\n",
    " We stress that Theorem 5.3 is the only result in our work that can be found in (or even follows easily from) [2]. Awerbuch et al. [2] relied on using techniques from [4] as well. Tight bounds on the Price of Anarchy for the KP model [11] were proven in [4,10] f IP\" TY1 \\ for the case of identical links (0 I T-4--J for all Nash equilibria), and in [4] for the case or related links (0 (min< T-4 , lg -^ >) for pure Nash equilibria and 0 ( T-]T ) for all Nash equilibria). For other bounds on Price of Anarchy for the KP model and its variants, see [6,7,8,9,12]. Suri et al. [17] studied a variant of the model of restricted parallel links where the Social Cost is the total latency, as opposed to maximum latency. (A corresponding variant of the KP model has been studied already in [9].) For this variant, Suri et al.\n",
    "\n",
    "Reference paper summary:\n",
    "\tThis paper introduces discrete routing games, a model that combines elements from the well-known KP and Wardrop models for non-cooperative routing. The model focuses on a network of parallel links where users, employing mixed strategies, aim to ship their unsplittable traffic. The paper explores the concept of the Price of Anarchy, which is defined as the worst-case ratio of the social cost for a Nash equilibrium compared to the minimal social cost.\n",
    "\n",
    "The paper analyzes various aspects of discrete routing games:\n",
    "\n",
    "* **Fully Mixed Nash Equilibria:**  The paper delves into the fully mixed Nash equilibrium, where users employ mixed strategies, and explores its properties under different conditions, particularly for identical users and arbitrary links.\n",
    "* **Price of Anarchy Bounds:**  Bounds on the Price of Anarchy are investigated, establishing an upper bound for the Wardrop model and extending it to discrete routing games. This analysis hinges on the assumption of non-decreasing and non-constant latency functions.\n",
    "* **Pure Nash Equilibria:** The paper examines pure Nash equilibria, where users choose single links, and presents an efficient algorithm to compute these equilibria for arbitrary links. \n",
    "* **Best and Worst Pure Nash Equilibria:** The complexity of computing the best and worst pure Nash equilibria is investigated.  The paper demonstrates that these problems are NP-complete even for identical links with an identity latency function.\n",
    "* **Algorithms:**  An algorithm, ComputeNash, is presented to compute pure Nash equilibria, leveraging a greedy approach and a priority queue to achieve a runtime of O(mlognlogm).\n",
    "* **Open Problems:** The paper concludes with a discussion of open problems, including the existence of a PTAS (Polynomial Time Approximation Scheme) for finding the best or worst pure Nash equilibria. \n",
    "\n",
    "The paper contributes to the understanding of discrete routing games by analyzing the interplay between mixed and pure strategies, the impact of latency functions on the Price of Anarchy, and the computational complexity of finding optimal equilibria. It provides valuable insights into the design and analysis of routing strategies in decentralized systems.\n",
    "\n",
    "\n",
    "    Source paper summary:\n",
    "\tThis research explores the Price of Anarchy (PoA) in the context of restricted parallel links, a model where users route traffic over a set of parallel links with limited capacity.  PoA quantifies the worst-case performance degradation in a system when users act selfishly, compared to a scenario where they cooperate for optimal performance.\n",
    "\n",
    "The paper focuses on a scenario with n users routing traffic over m parallel links, where each user has a restricted set of links they can choose from.  The authors establish bounds on PoA for different scenarios, revealing the dependence of PoA on the number of users (n) and links (m).\n",
    "\n",
    "The research considers three cases: identical users and identical links, identical users, and arbitrary users and related links. For each case, the paper presents both upper and lower bounds on PoA.  The upper bound for the case of arbitrary users and related links is shown to be m, providing a clear upper limit on the performance degradation in this scenario.\n",
    "\n",
    "Furthermore, the paper highlights a gap between the upper and lower bounds for the case of identical users, suggesting an area for future research.  It also draws connections to previous work on similar models, comparing the presented findings with existing literature.\n",
    "\n",
    "Overall, this paper provides valuable insights into the impact of selfish behavior on the performance of routing systems with restricted parallel links. The established bounds on PoA for different scenarios contribute significantly to understanding the performance degradation associated with non-cooperative user behavior in such systems.\"\"\""
   ]
  },
  {
   "cell_type": "code",
   "execution_count": 23,
   "metadata": {},
   "outputs": [],
   "source": [
    "res=anamalous_check(text)"
   ]
  },
  {
   "cell_type": "code",
   "execution_count": null,
   "metadata": {},
   "outputs": [
    {
     "data": {
      "text/plain": [
       "ChatCompletionMessage(content='In the passage provided, Reference [8]: \"Nash Equilibria in Discrete Routing Games with Convex Latency Functions\" is cited once. The citation in the passage occurs in the following context:\\n\\n\"For other bounds on Price of Anarchy for the KP model and its variants, see [6,7,8,9,12].\"\\n\\n**Analysis of the Citation:**\\n\\n- **Role**: This citation is part of a list of references that suggests additional sources where one can find other bounds on the Price of Anarchy (PoA) for the KP model and its variants. It serves to acknowledge the existence of similar or related work in the literature.\\n\\n- **Context**: The reference is included in an enumeration of studies related to PoA bounds for the KP model and its variants. The passage does not provide any direct comparison, critical evaluation, or detailed discussion of the methodological or performance differences between the reference [8] and the current work.\\n\\n- **Essential or Non-Essential**: The citation is non-essential. It does not influence the core analysis, conclusions, or novelty of the current work as presented in the passage. It merely acknowledges other contributions in the field without being integral to the passage\\'s main findings or arguments. The reference is used to point out related literature and does not appear to play a crucial role in the critical evaluation or comparative analysis underpinning the passage\\'s primary contributions.', refusal=None, role='assistant', audio=None, function_call=None, tool_calls=None)"
      ]
     },
     "execution_count": 24,
     "metadata": {},
     "output_type": "execute_result"
    }
   ],
   "source": [
    "res\n",
    "#non"
   ]
  },
  {
   "cell_type": "code",
   "execution_count": 25,
   "metadata": {},
   "outputs": [],
   "source": [
    "#4\n",
    "text=\"\"\"Reference [9]: Nash Equilibria in Discrete Routing Games with Convex Latency Functions. \n",
    "\n",
    "\n",
    "\n",
    "Passage:\n",
    " [11, Theorem 5.1] prove that for any arbitrary vector w, the Social Cost of any Nash equilibrium is within 2max/avg(w)(1 + Îµ) of that of the fully mixed Nash equilibrium, for any constant Îµ > 0. Combined with our upper bounds on the Coordination Ratio restricted to the fully mixed Nash equilibrium (Theorems 5.6, 5.6, and 6.6) this implies corresponding upper bounds (multiplied by 2max/avg(w)(1 + Îµ)) on Coordination Ratio for the general case. The fully mixed Nash equilibrium conjecture was recently disproved in [6] for the case of arbitrary users and uniform capacities. It is an interesting open problem whether the conjecture holds for the case of identical users and arbitrary capacities. Finally, conjectures motivated by and similar to the Fully Mixed Nash Equilibrium Conjecture were recently formulated and studied in an intensive way for several variants of the KP model [4], [8], [9], [17], [19]. For an advocate of conjectures related to the fully mixed Nash equilibrium, we refer the reader to the recent survey [12]. Two independent research teams, one of Koutsoupias et al. [15] and another of Czumaj andV Ìˆocking[3],havesubsequentlybounded(inanonconstructiveway)theCoordination Ratio to be ï¿½(lg m/lg lg m) for the model of uniform capacities and arbitrary traffics. Their corresponding, nonconstructive proofs have not identified the worst-case Nash equilibrium [16] for this model-they have only provided a tight upper bound for any Nash equilibrium (and, therefore, for the worst-case one).\n",
    "\n",
    "Reference paper summary:\n",
    "This paper introduces discrete routing games, a model that combines elements from the well-known KP and Wardrop models for non-cooperative routing. The model focuses on a network of parallel links where users, employing mixed strategies, aim to ship their unsplittable traffic. The paper explores the concept of the Price of Anarchy, which is defined as the worst-case ratio of the social cost for a Nash equilibrium compared to the minimal social cost.\n",
    "\n",
    "The paper analyzes various aspects of discrete routing games:\n",
    "\n",
    "* **Fully Mixed Nash Equilibria:**  The paper delves into the fully mixed Nash equilibrium, where users employ mixed strategies, and explores its properties under different conditions, particularly for identical users and arbitrary links.\n",
    "* **Price of Anarchy Bounds:**  Bounds on the Price of Anarchy are investigated, establishing an upper bound for the Wardrop model and extending it to discrete routing games. This analysis hinges on the assumption of non-decreasing and non-constant latency functions.\n",
    "* **Pure Nash Equilibria:** The paper examines pure Nash equilibria, where users choose single links, and presents an efficient algorithm to compute these equilibria for arbitrary links. \n",
    "* **Best and Worst Pure Nash Equilibria:** The complexity of computing the best and worst pure Nash equilibria is investigated.  The paper demonstrates that these problems are NP-complete even for identical links with an identity latency function.\n",
    "* **Algorithms:**  An algorithm, ComputeNash, is presented to compute pure Nash equilibria, leveraging a greedy approach and a priority queue to achieve a runtime of O(mlognlogm).\n",
    "* **Open Problems:** The paper concludes with a discussion of open problems, including the existence of a PTAS (Polynomial Time Approximation Scheme) for finding the best or worst pure Nash equilibria. \n",
    "\n",
    "The paper contributes to the understanding of discrete routing games by analyzing the interplay between mixed and pure strategies, the impact of latency functions on the Price of Anarchy, and the computational complexity of finding optimal equilibria. It provides valuable insights into the design and analysis of routing strategies in decentralized systems.\n",
    "\n",
    "\n",
    "Source paper summary:\n",
    "This research explores the Price of Anarchy (PoA) in the context of restricted parallel links, a model where users route traffic over a set of parallel links with limited capacity.  PoA quantifies the worst-case performance degradation in a system when users act selfishly, compared to a scenario where they cooperate for optimal performance.\n",
    "\n",
    "The paper focuses on a scenario with n users routing traffic over m parallel links, where each user has a restricted set of links they can choose from.  The authors establish bounds on PoA for different scenarios, revealing the dependence of PoA on the number of users (n) and links (m).\n",
    "\n",
    "The research considers three cases: identical users and identical links, identical users, and arbitrary users and related links. For each case, the paper presents both upper and lower bounds on PoA.  The upper bound for the case of arbitrary users and related links is shown to be m, providing a clear upper limit on the performance degradation in this scenario.\n",
    "\n",
    "Furthermore, the paper highlights a gap between the upper and lower bounds for the case of identical users, suggesting an area for future research.  It also draws connections to previous work on similar models, comparing the presented findings with existing literature.\n",
    "\n",
    "Overall, this paper provides valuable insights into the impact of selfish behavior on the performance of routing systems with restricted parallel links. The established bounds on PoA for different scenarios contribute significantly to understanding the performance degradation associated with non-cooperative user behavior in such systems.\"\"\""
   ]
  },
  {
   "cell_type": "code",
   "execution_count": null,
   "metadata": {},
   "outputs": [
    {
     "data": {
      "text/plain": [
       "ChatCompletionMessage(content='In the passage provided, Reference [9] is mentioned as part of a list of works related to the fully mixed Nash equilibrium conjecture. Let\\'s analyze the role of this reference in the context of the passage:\\n\\n1. The sentence where [9] is cited is: \"Finally, conjectures motivated by and similar to the Fully Mixed Nash Equilibrium Conjecture were recently formulated and studied in an intensive way for several variants of the KP model [4], [8], [9], [17], [19].\"\\n\\n   - **Role in Context:** This citation, along with others, acknowledges work that has been done on conjectures related to the fully mixed Nash equilibrium, particularly how these conjectures have been explored in the context of various KP model variants.\\n   \\n   - **Essential vs. Non-Essential:** This citation is non-essential to the passage\\'s main contributions or findings. It serves as background information to place the ongoing discussion in the broader context of related work. It does not directly compare performance, highlight methodological differences, or contribute critically to the analysis or conclusions of the source work. \\n\\nIn conclusion, the citation of Reference [9] in the passage is non-essential. It provides context but does not influence the core analysis, conclusions, or novelty of the work being discussed.', refusal=None, role='assistant', audio=None, function_call=None, tool_calls=None)"
      ]
     },
     "execution_count": 26,
     "metadata": {},
     "output_type": "execute_result"
    }
   ],
   "source": [
    "res=anamalous_check(text)\n",
    "res\n",
    "#non"
   ]
  },
  {
   "cell_type": "code",
   "execution_count": 27,
   "metadata": {},
   "outputs": [],
   "source": [
    "#10\n",
    "text=\"\"\"Reference [1]: The price of stability for network design with fair cost allocation.\n",
    "\n",
    "\n",
    "\n",
    "Passage:\n",
    " For the lâˆž norm and a natural subclass of equilibria, which we call subpath-optimal, the price of anarchy in singlecommodity networks is no worse than that in the l1 case. The bicriteria bound of [23] also holds for this subclass of equilibria. Again, these upper bounds are the best possible. We next compare and contrast these contributions with other results in the literature. Our positive result for subpathoptimal equilibria is reminiscent of â€œprice of stabilityâ€ analyses that concern the best equilibrium of a game [1, 2, 10], but it is much stronger. The best equilibrium of a game typically cannot be reached without centralized intervention, 2 NETWORKS-2012-DOI 10.1002/net but subpath-optimal equilibria are the natural outcome of decentralized optimization from a networking perspective: if an equilibrium is computed by a distributed shortest path routing protocol, it is automatically subpath-optimal (see Section 3.2). The separation that we prove between the worst-case price of anarchy in single-commodity and multicommodity networks with the lp norm with p > 1 stands in contrast to the case of the l1 norm, where there is never such a separation [10,20]. Indeed, all previously known proof techniques for bounding the price of anarchy of selfish routing (for the l1 norm) neither refer to the number of commodities of a network nor to any combinatorial structure whatsoever (as made precise in [22]). These proof techniques for the l1 case therefore appear incapable of extending to the lp case with p > 1-our results require a new and fundamentally combinatorial approach.\n",
    "\n",
    "Reference paper summary:\n",
    "This paper investigates the strategic implications of cost-sharing mechanisms in network design, particularly focusing on the Shapley value as a cost-sharing scheme. It explores the Nash equilibrium properties and the price of stability in fair connection games, where users strategically choose paths to minimize their costs.\n",
    "\n",
    "The paper establishes that in every instance of the network design problem with Shapley cost-sharing, there exists a Nash equilibrium whose total cost is at most H(k) times the optimal cost, where H(k) is the harmonic sum. It also proves that best-response dynamics, starting from the optimal solution, always lead to a good Nash equilibrium.\n",
    "\n",
    "The study examines the price of anarchy, which measures the worst-case performance of a Nash equilibrium compared to the global optimum. It demonstrates that while the price of anarchy can grow as large as k in the worst case, the price of stability can be bounded by H(k).\n",
    "\n",
    "The paper further explores the impact of congestion on edge costs and analyzes the case where delays increase with congestion. It introduces a potential function method to demonstrate that for reasonable delay functions, the price of stability remains bounded.\n",
    "\n",
    "The study investigates the convergence time of best-response dynamics and constructs an example where the convergence time can be exponential in the number of players. It also explores the implications of adding capacities to edges and the challenges posed by weighted games.\n",
    "\n",
    "The paper highlights the significant implications of cost-sharing mechanisms in network design, particularly the Shapley value. It provides insights into the strategic behavior of users, the price of stability, and the convergence properties of best-response dynamics. The findings contribute to a deeper understanding of the interplay between decentralized decision-making and network performance.\n",
    "\n",
    "\n",
    "Source paper summary:\n",
    "This research delves into the concept of \"price of anarchy\" in network routing, focusing on the scenario where the cost of a path is determined by its most congested edge (the bottleneck) using the â„“âˆž norm aggregation function. This contrasts with traditional approaches where path costs are calculated as the sum of edge costs (â„“1 norm).\n",
    "\n",
    "The authors demonstrate that for a natural cost-minimization objective, the price of anarchy with endogenous traffic rates (where demand fluctuates based on congestion) is no larger than in networks with fixed demand. This upper bound holds for the â„“âˆž path cost when considering equilibria generated by distributed shortest path routing protocols.\n",
    "\n",
    "The paper then explores the price of anarchy in multicommodity networks, where multiple commodities compete for network resources. It establishes a separation between the worst-case price of anarchy in single-commodity and multicommodity networks with the â„“p norm (where p>1), unlike the â„“1 norm where such separation doesn't exist.\n",
    "\n",
    "The study examines a broader objective that minimizes the travel cost of participating players and the lost benefit of non-participating players, analogous to \"prize-collecting\" objectives in approximation algorithm design. The authors introduce the Pigou Bound, which minimizes the combined cost over all feasible flow paths that are not routed at a specific instance.\n",
    "\n",
    "Furthermore, the paper presents examples highlighting the unbounded nature of the price of anarchy in multicommodity networks with nonlinear aggregation functions, even with linear cost functions and inelastic traffic. It also demonstrates that the bicriteria bound, which states that a Nash flow is no more expensive than an optimal flow at double the traffic rates, doesn't hold for the â„“âˆž path norm.\n",
    "\n",
    "The research then investigates subpath-optimal equilibria, a natural outcome of decentralized optimization from a networking perspective. It identifies a \"minimal cut\" with respect to a subpath-optimal Nash flow and argues that proof techniques must leverage both the subpath assumption and the combinatorial structure of single-commodity networks.\n",
    "\n",
    "The paper extends its analysis to the â„“p path norms, proving a bicriteria bound for the â„“p norm and demonstrating that the worst-possible inefficiency arising from the tragedy of the commons is no greater than that arising from routing inefficiency. Finally, it concludes by showing that all bounds on the price of anarchy extend to networks with elastic traffic, highlighting the practical implications of this research for network optimization and performance analysis.\"\"\""
   ]
  },
  {
   "cell_type": "code",
   "execution_count": null,
   "metadata": {},
   "outputs": [
    {
     "data": {
      "text/plain": [
       "ChatCompletionMessage(content='In the provided passage, reference [1] is cited once and serves as the basis for analyzing the concept of the \"price of stability\" in the context of network equilibria.\\n\\n1. Citation of Reference [1]: \\n   - **Context in Passage**: The passage discusses the concept of subpath-optimal equilibria in network routing and compares it to the \"price of stability\" analyses detailed in reference [1]. The authors point out that their results for subpath-optimal equilibria are much stronger than those discussed in reference [1].\\n   - **Role of Citation**: This citation is essential. It is used to draw a direct comparison between the results of the current work and those of reference [1], highlighting the superiority of the subpath-optimal equilibria in the current research. This comparison plays a crucial role in establishing the novelty and significance of the study’s contributions, particularly as it shows their results can be achieved without centralized intervention, unlike in [1].\\n\\nTherefore, the citation of reference [1] is essential because it is used in a critical comparative analysis that underlines the main findings and methodological contributions of the passage.', refusal=None, role='assistant', audio=None, function_call=None, tool_calls=None)"
      ]
     },
     "execution_count": 28,
     "metadata": {},
     "output_type": "execute_result"
    }
   ],
   "source": [
    "res=anamalous_check(text)\n",
    "res\n",
    "#non"
   ]
  },
  {
   "cell_type": "code",
   "execution_count": 29,
   "metadata": {},
   "outputs": [],
   "source": [
    "#38\n",
    "text=\"\"\"Reference [24]: A variable neighborhood search heuristic for periodic routing problems. \n",
    "\n",
    "\n",
    "\n",
    "Passage:\n",
    " The complexity of the daily decision situation in most of the Austrian concrete companies is of that size. If the company is larger the decision maker usually clusters not more than five concrete plants to simultaneously develop the schedule for any given day. For the mediumsized problems the gap to the lower bound is 12.0%, whereas with the pure VNS the gap is 14.36% using the same runtime. For individual instances the resulting gap using the standalone VNS increases up to 24.89%. These efficient hybridization schemes should be applied to standard periodic vehicle routing problems, e.g., the periodic traveling salesman problem or the periodic vehicle routing problem [24]. Acknowledgments This project was supported, in part, by the Austrian Science Fund (FWF) Grant no. P20342-NI3 and by the Spanish research Project MTM2006-14961-C05-03. Academic Licenses of XPRESS-MP (v. 2007A) by Dash Optimization was used in our computational experiments. References\n",
    "\n",
    "Reference paper summary:\n",
    "This research presents a Variable Neighborhood Search (VNS) heuristic for solving Periodic Vehicle Routing Problems (PVRP), which extend the classic Vehicle Routing Problem (VRP) to encompass a multi-day planning horizon. The PVRP considers the need for multiple visits to each customer within this horizon, allowing flexibility in the exact visit days. The proposed VNS method outperforms existing solutions in the literature and is particularly effective for larger instances.\n",
    "\n",
    "The research also examines the Periodic Traveling Salesman Problem (PTSP), a special case of the PVRP with a single vehicle available each day. The adapted VNS approach for the PTSP also demonstrates competitiveness. The paper highlights two key contributions: the first application of VNS to periodic routing problems and the demonstration of its effectiveness through computational results.\n",
    "\n",
    "The VNS algorithm incorporates move and cross-exchange operators to explore different neighborhoods and overcome local optimality. These operators alter the sequence of customer visits within routes. The algorithm uses a 3-opt local search procedure for refinement and dynamically adjusts weights to manage tour capacity and duration constraints. \n",
    "\n",
    "The effectiveness of the VNS algorithm is validated through extensive testing on benchmark instances, including those with large average distances between customers and those with high visit frequencies. The algorithm consistently improves upon existing best-known results, particularly for larger problems, demonstrating its efficiency and scalability.  \n",
    "\n",
    "Further analysis explores the impact of different neighborhood structure orderings and iterations on solution quality. The VNS approach excels in finding improved solutions in the early stages of optimization, highlighting its potential for efficient problem-solving. The research concludes by highlighting the algorithm's strength in handling periodic problems, particularly for larger instances, and its suitability for future extensions to Inventory Routing Problems, relevant for applications such as blood product delivery.\n",
    "\n",
    "Source paper summary:\n",
    "This paper presents two hybrid solution procedures for optimizing ready-mixed concrete (RMC) delivery, combining an exact algorithm based on mixed integer linear programming (MILP) with a variable neighborhood search (VNS) approach. The MILP formulation models the problem of minimizing total cost, considering travel time and penalties for delays between unloading operations. The VNS component focuses on selecting variables to fix, employing a very large neighborhood search (VLNS) strategy. These hybrid metaheuristics outperform the pure VNS approach. \n",
    "\n",
    "The problem involves delivering concrete from plants to construction sites within specified time windows. Trucks can only handle one order at a time and must return to a plant after each delivery. The paper details the mathematical model, including constraints related to time windows, truck capacity, and special unloading equipment. The MILP model is strengthened by introducing valid inequalities.\n",
    "\n",
    "The heuristic approach combines the MILP model with the VNS algorithm. The VNS component iteratively fixes most variables, leaving some unfixed for optimization. This process continues until a feasible solution is obtained. The paper analyzes the performance of the heuristic approach, comparing it to the pure VNS method and demonstrating its effectiveness.\n",
    "\n",
    "Computational experiments using real data from an Italian concrete company validate the model and the heuristic approach. The results show the effectiveness of the valid inequalities in improving the model's performance and highlight the superior performance of the hybrid approach over the pure VNS method.\"\"\""
   ]
  },
  {
   "cell_type": "code",
   "execution_count": null,
   "metadata": {},
   "outputs": [
    {
     "data": {
      "text/plain": [
       "ChatCompletionMessage(content=\"The passage includes a citation to Reference [24] when discussing hybridization schemes and their potential application to standard periodic vehicle routing problems like the periodic traveling salesman problem (PTSP) or periodic vehicle routing problem (PVRP).\\n\\nNow, let's determine whether this citation is essential or non-essential:\\n\\n1. **Role of Reference [24] in the Passage:**\\n   - The passage compares the performance of hybrid techniques applied to specific routing problems with the pure Variable Neighborhood Search (VNS) heuristic discussed in Reference [24].\\n   - It argues that these hybrid schemes could be beneficial if applied to problems similar to those addressed in Reference [24].\\n\\n2. **Determining Essentiality:**\\n   - **Essential**: If the citation directly influences the core analysis, showing that the proposed hybrid scheme provides a significant improvement or distinct methodological difference compared to the VNS in Reference [24], it would be considered essential. However, this passage does not perform this function.\\n   - **Non-Essential**: The citation is used more as a suggestion that these hybridization schemes might also work well in periodic problems, acknowledging the type of problems that Reference [24] addresses without the hybrid scheme's core analysis critically evaluating or directly improving upon the methods discussed in Reference [24].\\n\\nConsidering the passage and criteria, the citation to Reference [24] is **non-essential**. It acknowledges the relevance of Reference [24] in a related area but does not play a crucial role in influencing the passage's main contributions or findings.\", refusal=None, role='assistant', audio=None, function_call=None, tool_calls=None)"
      ]
     },
     "execution_count": 30,
     "metadata": {},
     "output_type": "execute_result"
    }
   ],
   "source": [
    "res=anamalous_check(text)\n",
    "res\n",
    "#non"
   ]
  },
  {
   "cell_type": "code",
   "execution_count": 32,
   "metadata": {},
   "outputs": [],
   "source": [
    "#39\n",
    "text=\"\"\"Reference [14]: Sharp bounds for Zagreb indices of maximal outerplanar graphs.\n",
    "\n",
    "\n",
    "Passage:\n",
    " Note that A db is a real symmetric matrix of order n . Hence, all its eigenvalues are real and can be arranged as Ï1 â©¾ Ï2 â©¾ ï¿½ï¿½ï¿½ â©¾ Ïn , where the largest eigenvalue Ï1 is called the weighted spectral radius of the graph G . The modification of the adjacency graph energy E [10] motivates our approach to introduce another type of energy, namely the weighted energy , for the graph G , which is defined as E db = E db (G ) = n ï¿½ i =1 | Ï i | . (1.3) In the later part of this paper we shall need two graph invariants. One is the first Zagreb index M 1 [14,19,20,31] of G , which is defined as M 1 = M 1 (G ) = n ï¿½ i =1 d i 2 . The other one is the index M âˆ— of G which is defined as M âˆ— = M âˆ— G = ï¿½ v i v j âˆˆ E(G ) 1 d i d j . As usual, by K p,q (p + q = n ) , K n and K 1 ,n -1 we denote, respectively, the complete bipartite graph, the complete graph and the star on n vertices. For other undefined notation and terminology from graph theory and matrix theory, the readers are referred to [2,30] . The rest of the paper is organized as follows.\n",
    "\n",
    "Reference paper summary:\n",
    "This paper investigates the Zagreb indices (M1 and M2), topological indices that reflect the structural properties of chemical compounds, specifically within the context of maximal outerplanar graphs. The authors aim to establish sharp upper and lower bounds for M1 and M2 values in these graphs, characterizing the graphs that achieve these extrema.\n",
    "\n",
    "The study begins by defining key concepts and notations, focusing on simple graphs and introducing terms like chords and outer face boundaries.  The authors then prove various lemmas about the relationships between vertex degrees and the neighborhood structures in maximal outerplanar graphs, laying the foundation for their main results.\n",
    "\n",
    "The core of the paper presents two primary theorems:\n",
    "\n",
    "* **Theorem 4.1:**  Determines the lower bound for M1 in maximal outerplanar graphs, showing that M1 is always greater than or equal to 16n-38, with equality occurring only for the path graph P2n.\n",
    "* **Theorem 5.1:**  Similarly, establishes the lower bound for M2 in maximal outerplanar graphs, proving that M2 is always greater than or equal to M2(P2n), with equality achieved only for the path graph P2n.\n",
    "\n",
    "Further exploration delves into the bounds for M1 and M2 when the maximal outerplanar graphs have perfect matchings, proving that the path graph with an even number of vertices (P22k) represents the extremal graph for both M1 and M2 in this context.\n",
    "\n",
    "The authors conclude by discussing the broader implications of their findings, highlighting the relationship between the Zagreb indices and the structure of graphs, emphasizing the importance of these indices in fields such as chemistry, communication, and facility location.\n",
    "\n",
    "\n",
    "Source paper summary:\"\"\""
   ]
  },
  {
   "cell_type": "code",
   "execution_count": null,
   "metadata": {},
   "outputs": [
    {
     "data": {
      "text/plain": [
       "ChatCompletionMessage(content=\"Based on the provided passage and the summary of the reference paper, let's analyze the instance where the reference [14] is cited and determine its essentiality.\\n\\n**Passage Analysis:**\\nThe citation of reference [14] appears in the context of defining the first Zagreb index \\\\( M_1 \\\\) as part of the foundational aspects needed for the later discussions in the passage. The passage mentions these indices as part of graph invariants needed for the study. The reference is grouped with other citations ([19,20,31]) when introducing the definition of \\\\( M_1 \\\\).\\n\\n**Reference Paper Summary:**\\nReference [14] deals with establishing sharp bounds for the Zagreb indices \\\\( M_1 \\\\) and \\\\( M_2 \\\\) specifically for maximal outerplanar graphs. It focuses on deriving significant theoretical results about the lower bounds of \\\\( M_1 \\\\) and \\\\( M_2 \\\\) in this graph context.\\n\\n**Determination of Essentiality:**\\n- **Role of the Citation:** In this passage, the citation of [14] serves primarily as one of several sources that define or give context to the Zagreb index \\\\( M_1 \\\\). It does not seem to play a role in critically evaluating, comparing performance, or highlighting methodological differences directly related to the main contributions or findings of the source paper.\\n  \\n- **Impact on Analysis and Findings:** The passage doesn't explicitly draw upon the bounds or theorems from [14] for core analysis or to influence the study's conclusions or novelty. It seems more like background information or a supplementary reference grouped with others.\\n\\n**Conclusion:**\\nGiven the lack of direct critical evaluation or integration of [14]'s specific findings into the passage's core contributions or methodologies, the citation seems to be **Non-Essential**. It acknowledges [14] for contextual purposes among other references, without impacting the passage's primary arguments or results directly connected to the comparative analysis.\", refusal=None, role='assistant', audio=None, function_call=None, tool_calls=None)"
      ]
     },
     "execution_count": 33,
     "metadata": {},
     "output_type": "execute_result"
    }
   ],
   "source": [
    "res=anamalous_check(text)\n",
    "res\n",
    "#non"
   ]
  },
  {
   "cell_type": "code",
   "execution_count": 34,
   "metadata": {},
   "outputs": [],
   "source": [
    "#5\n",
    "text=\"\"\"Reference [27]: Variable neighborhood search: methods and applications. \n",
    "\n",
    "\n",
    "Passage:\n",
    " Indeed MSSC is sometimes called the k-means problem. This heuristic alternately applies properties (ii) and (iii) above until a local optimum is reached. It has been shown by Hansen and Mladenovi Ìc [25] that while k-means usually gives good results for small number of clusters its performance deteriorates, sometimes drastically, when this number increases. Modifying k-means by adding a jump move of a centroid to an entity location gives a much better heuristic called j-means. Finally, combining j-means with a Variable Neighborhood Search (VNS) heuristic [26,27,47] gives a heuristic which often provides optimal solutions or best known ones. This empirical observation will be exploited in the algorithm presented below. Other recent heuristics for MSSC include the global k-means method of Likas et al. [41], analyzed in [28] and modified by Bagirov [6], Bagirov and Yearwoodâ€™s nonsmoothoptimizationalgorithm[7],smoothingoptimizationalgorithmsduetoTeboulle and Kogan [62] and Xavier et al. [66], Merzâ€™s iterated local search [44], Pachecoâ€™s scatter search [48], Pacheco and Valenciaâ€™s hybrids [49], Taillardâ€™s decomposition methods 123 An improved column generation algorithm 197 [61], Laszlo and Mukherjeeâ€™s genetic algorithms [37,38], Christouâ€™s restricted column generation and partitioning method [11], and the D.C. heuristic of An, Belghiti and Tao [4].\n",
    "\n",
    "\n",
    "\n",
    "Reference paper summary:\n",
    "Variable Neighborhood Search (VNS) is a metaheuristic framework for solving combinatorial and global optimization problems. This paper provides an updated survey of VNS, building upon a previous 2008 version. The paper highlights the need for heuristics to address the complexity of practical optimization problems, which are often too large to be solved exactly within reasonable time constraints. VNS, with its systematic change of neighborhood structures and local search, offers a valuable approach to finding approximate or sometimes optimal solutions.\n",
    "\n",
    "The paper outlines the key components of VNS, including:\n",
    "\n",
    "* **Basic VNS:** A combination of deterministic and stochastic changes of neighborhood, involving steps like shaking, local search, and neighborhood change.\n",
    "* **Variable Neighborhood Descent (VND):** A deterministic variation of VNS, where neighborhoods are changed systematically.\n",
    "* **Reduced VNS (RVNS):** A stochastic variation of VNS, where random points are selected from neighborhoods without descent.\n",
    "* **Skewed VNS (SVNS):** A method aimed at exploring valleys far from the incumbent solution by incorporating a distance function to guide search.\n",
    "* **Variable Neighborhood Decomposition Search (VNDS):** An extension of VNS that employs a two-level scheme based on problem decomposition.\n",
    "* **Primal-Dual VNS (PD-VNS):** An approach that aims to obtain both guaranteed bounds and exact solutions by incorporating dual relaxation.\n",
    "\n",
    "The paper also emphasizes the importance of:\n",
    "\n",
    "* **Representation of solutions:** Considering different representations to reduce the complexity of routines.\n",
    "* **Objective function calculation:** Establishing a clear procedure for calculating the objective function value.\n",
    "* **Shaking:** Developing a procedure for shaking solutions to diversify the search.\n",
    "* **Intensification:** Introducing intensification procedures to refine search within promising subsets of the neighborhood.\n",
    "* **Parameter settings:** Tuning the single central parameter, *kmax*, experimentally.\n",
    "\n",
    "The paper then delves into diverse applications of VNS across various fields, including:\n",
    "\n",
    "* **Industrial applications:** Oil industry problems like offshore pipeline network design, pooling problems, and rig scheduling.\n",
    "* **Cluster analysis:**  The J-Means heuristic combined with VNS proves particularly effective for solving minimum sum of square clustering problems.\n",
    "* **Communications and location problems:**  VNS has been applied to design problems in communications and various location problems.\n",
    "* **Graph problems involving trees:** VNS is used in post-optimization procedures for the prize-collecting Steiner tree problem.\n",
    "* **Bin packing and strip packing:**  VNS has been successfully applied to bin packing, strip packing, and container loading problems.\n",
    "* **Circle and sphere packing:**  VNS has been explored as a solution approach for these packing problems.\n",
    "* **Mixed integer programs:**  VNS can help in finding feasible or improved solutions for large and difficult mixed integer programs.\n",
    "* **Scheduling problems:** VNS has been applied to various scheduling problems like single machine total tardiness, unrelated parallel-machine scheduling, and permutation flow shop sequencing.\n",
    "* **Vehicle routing:** VNS has been utilized to solve vehicle routing problems, including online methods for the general vehicle routing problem.\n",
    "* **Bioinformatics:** VNS has been employed for problems in bioinformatics, including phylogeny, cDNA microarray gene expression data clustering, and finding the three-dimensional structure of molecules.\n",
    "* **Satisfiability problems:**  VNS is used to solve satisfiability problems.\n",
    "* **Continuous function optimization:** VNS is used in conjunction with other optimization methods like PSO.\n",
    "* **Subspace selection:**  VNS-like approaches have been developed for the subspace selection problem.\n",
    "* **Blood product delivery:** VNS has been applied to the delivery of blood products to hospitals.\n",
    "* **Optimization problems in manufacturing:** VNS has been applied to manufacturing optimization problems.\n",
    "* **Discovery science:**  VNS can be used not only for optimization but also for discovering scientific insights, particularly in graph theory.\n",
    "\n",
    "The paper concludes by highlighting the desirable properties of VNS, such as its robustness, efficiency, and adaptability to different problems. The growing popularity and ongoing development of VNS are emphasized, with several conferences and publications dedicated to this metaheuristic framework. The paper attributes the success of VNS to its adherence to Karl Popperâ€™s philosophy of science, focusing on testable conjectures and refutations.\n",
    "\n",
    "Source paper summary:\n",
    "\n",
    "\n",
    "This paper proposes a new column generation algorithm for minimum sum-of-squares clustering (MSSC), a method used to partition entities into clusters based on the sum of squared Euclidean distances from each entity to the centroid of its cluster. While MSSC can be solved in O(n^3) time, it is NP-hard for general values of k in the plane. Previous attempts at exact algorithms have been limited by the auxiliary problem, particularly the unconstrained quadratic 0-1 optimization problem. \n",
    "\n",
    "The authors introduce a geometric approach to solve the auxiliary problem, drawing inspiration from the Weber problem with limited distances. This approach involves analyzing the intersection points of discs in the plane and solving subproblems for each region defined by the intersections. The new algorithm achieves a time complexity of O(n^3) and can solve instances with over 2,300 entities, significantly surpassing previous capabilities.\n",
    "\n",
    "The paper then generalizes this approach to higher dimensional spaces, using a similar concept of intersecting hyperspheres. The algorithm explores the intersection graph of hyperspheres to efficiently solve the auxiliary problem, employing an implicit branch-and-bound method.\n",
    "\n",
    "Computational experiments on real-world datasets demonstrate the effectiveness of the improved algorithm. Notably, it outperforms previous methods, including the repetitive branch-and-bound algorithm and the best branch-and-cut SDP-based algorithm, in terms of solving larger instances more efficiently. The algorithm also exhibits scalability with increasing values of k.\n",
    "\n",
    "The study concludes that the geometric approach offers a more efficient way to solve the auxiliary problem in the column generation algorithm for MSSC. This advancement allows for exact solutions of significantly larger instances, pushing the boundaries of solving this NP-hard problem.\"\"\""
   ]
  },
  {
   "cell_type": "code",
   "execution_count": null,
   "metadata": {},
   "outputs": [
    {
     "data": {
      "text/plain": [
       "ChatCompletionMessage(content='In the provided passage, the specified reference [27] is cited as part of a discussion around the Variable Neighborhood Search (VNS) heuristic, in combination with the J-means heuristic, to improve solutions for Minimum Sum of Squares Clustering (MSSC) problems. Here is the analysis of the citation\\'s instances and their importance:\\n\\n1. **Instance of Citation: \"combining j-means with a Variable Neighborhood Search (VNS) heuristic [26,27,47] gives a heuristic which often provides optimal solutions or best known ones.\"**\\n\\n   - **Essential**: This citation is considered essential to the passage\\'s main contributions. It highlights the role of VNS (and thus indirectly the concepts detailed in the referenced work) as a critical component in improving the performance of clustering heuristics. The combination, as noted, often yields optimal solutions, which directly underlines the significance of VNS in achieving the empirical results mentioned in the text. The citation of reference [27] here justifies the integration of VNS into their algorithm, demonstrating methodological novelty and effectiveness, a central point of the passage.\\n\\nOverall, in this specific instance, the citation to reference [27] is essential, as it underpins the validity of using VNS for solving MSSC effectively and is intertwined with the core contributions and findings of the passage regarding enhanced heuristic approaches.', refusal=None, role='assistant', audio=None, function_call=None, tool_calls=None)"
      ]
     },
     "execution_count": 35,
     "metadata": {},
     "output_type": "execute_result"
    }
   ],
   "source": [
    "res=anamalous_check(text)\n",
    "res\n",
    "#"
   ]
  },
  {
   "cell_type": "code",
   "execution_count": 36,
   "metadata": {},
   "outputs": [],
   "source": [
    "#122\n",
    "text=\"\"\"Reference [26]: On a locally minimum cost forwarding game\n",
    "\n",
    "\n",
    "Passage:\n",
    "The stretch results of LocalHeur outperforms DeltaHeur almost always by an additive factor of 2. The cost of achieving this is minimal, considering that in all cases only at most 10 percent of the nodes deviate from their best-response (Table 1) and the deviation from best-response is only about 3 percent, which can be inferred by the constant shown in the average closeness to equilibrium plot (Figure 6). This is consistent with Theorem 7..1. For power p = 2, the performance becomes comparable to DeltaHeur, but still there are only 10 percent of nodes deviating, and the worst case deviation is a very slowly growing function consistent with the theoretical upper-bound from Theorem 7..2. An explanation for comparable stretch and diameter results upon powering the distance is that SPT tends to choose shorter edges Algorithms 2009, 2 1319 at higher powers [26] thus tending towards closer neighbor, while the choice of the next forwarding neighbor in the case of LocalHeur remains the same for all powers. For the random link models under both social cost functions, both DeltaHeur and MST prices appear growing, though for the stretch-based pricing (Figure 8), again MST appears growing asymptotically faster, and there is too much variance in the DeltaHeur plot to make further inferences. The primary consistent observation applying here is that the DeltaHeur is still an improvement over MST (whether by a constant or asymptotically growing factor), and that the md-prices are still quite small. Figure 5. Plot of stretch and diameter for the MST, DeltaHeur and LocalHeur case when power = 1.\n",
    "\n",
    "Reference paper summary:\n",
    "This paper examines the Locally Minimum Cost Forwarding Game (LMCF) in wireless networks, where nodes selfishly choose forwarding paths to minimize their individual costs. The paper focuses on determining the optimal Nash equilibrium, a state where no node can improve its situation by unilaterally changing its strategy.\n",
    "\n",
    "The authors prove the hardness of computing the optimal Nash equilibrium for LMCF in three-dimensional Euclidean instances, as well as approximation hardness for arbitrary instances. They propose a heuristic algorithm, the Delta Heuristic, for finding Nash equilibria and analyze its performance through simulations and probabilistic arguments.\n",
    "\n",
    "The paper highlights key findings:\n",
    "\n",
    "* **Existence of Nash Equilibria:** Nash equilibria always exist in LMCF, with minimum spanning trees being one example.\n",
    "* **Price of Anarchy (PoA) and Stability:** The PoA, a measure of inefficiency caused by selfish behavior, and stability can be linear with respect to the stretch-based social cost objective.\n",
    "* **NP-Hardness and Inapproximability:** Finding the socially optimal Nash equilibrium is NP-hard, even in the three-dimensional Euclidean case. \n",
    "* **Properties of Nash Trees:** In any 2-dimensional Euclidean power graph, incoming node degree in a Nash tree is at most 6.\n",
    "* **Simulation Results:** Simulations demonstrate that the Delta Heuristic consistently outperforms directed Minimum Spanning Trees (MSTs) in LMCF, suggesting its practical usefulness for topology control in selfish wireless networks.\n",
    "\n",
    "The paper also discusses the expected PoA and PoS (Price of Stability) for random Euclidean power instances. It is found that the expected PoA is Ï‰(1), indicating a significant difference between the social cost of a Nash equilibrium and the optimal solution, while the expected PoS is Î˜(1), suggesting that a well-chosen Nash equilibrium can achieve a social cost comparable to the optimal solution.\n",
    "\n",
    "The authors conclude that understanding the behavior of selfish nodes in LMCF is crucial for designing efficient and robust wireless networks. They propose the Delta Heuristic as a practical tool for achieving desirable outcomes in these settings.\n",
    "\n",
    "\n",
    "Source paper summary:\n",
    "This paper investigates the problem of all-to-one selfish routing in wireless sensor networks without a payment scheme. The goal is to minimize the total power consumed by transmitting messages from random sources to a single destination, modeled as a Locally Minimum Cost Forwarding (LMCF) game.  \n",
    "\n",
    "The study focuses on characterizing the Nash equilibria and their global costs in terms of stretch and diameter.  It demonstrates the existence of Nash equilibria for the LMCF game, with minimum spanning trees being a common, though not always socially optimal, equilibrium. \n",
    "\n",
    "The authors explore the price of anarchy and price of stability, revealing potential linear increases in cost relative to social cost objectives.  They establish the NP-hardness of finding the socially optimal Nash equilibrium and demonstrate inapproximability results for the problem.\n",
    "\n",
    "To address this challenge, heuristics are introduced: DeltaHeur and LocalHeur. DeltaHeur guarantees Nash equilibrium and exhibits good global performance, while LocalHeur, a local algorithm, prioritizes information locality in wireless sensor networks.  Both heuristics are compared to the Nearest Forward Progress (NFP) algorithm. \n",
    "\n",
    "The paper analyzes the performance of these heuristics on Euclidean power graphs and random link graphs, considering factors like stretch and diameter.  It also explores the behavior of Nash equilibria in Euclidean graphs, focusing on the influence of mutual nearest neighbors and the impact of node density.\n",
    "\n",
    "The paper further delves into the NP-hardness of approximating the optimal Nash equilibrium for both the SCmd and SCstretch social cost functions, providing a 3-SAT reduction and detailed analysis of the problem's complexity.\n",
    "\n",
    "Simulations conducted on Euclidean power graphs and random link models demonstrate the effectiveness of the heuristics, with both DeltaHeur and LocalHeur surpassing the performance of the Minimum Spanning Tree (MST).  The paper also presents NS-2 simulations that validate the findings, demonstrating the energy efficiency of LocalHeur compared to MST in a realistic wireless environment. \n",
    "\n",
    "The paper concludes by emphasizing the practical implications of LocalHeur for wireless sensor networks, highlighting its ability to approximate Nash equilibria while achieving near-optimal social cost. LocalHeur is positioned as a promising solution within the class of location-based routing methods, offering a balance between efficiency and robustness in the context of selfish routing.\"\"\""
   ]
  },
  {
   "cell_type": "code",
   "execution_count": null,
   "metadata": {},
   "outputs": [
    {
     "data": {
      "text/plain": [
       "ChatCompletionMessage(content='To determine if the citation of Reference [26] is essential or non-essential in the passage, let\\'s analyze its context and usage:\\n\\n**Instance of Citation [26]:**\\nThe passage states: \"An explanation for comparable stretch and diameter results upon powering the distance is that SPT tends to choose shorter edges Algorithms 2009, 2 1319 at higher powers [26] thus tending towards closer neighbor, while the choice of the next forwarding neighbor in the case of LocalHeur remains the same for all powers.\"\\n\\n**Analysis:**\\nIn this citation, Reference [26] is used to support a specific observation about the behavior of SPT (Shortest Path Tree) at higher powers. This observation is used to explain why LocalHeur maintains comparable stretch and diameter results when powering the distance. The citation thus provides a background or corroborating explanation for the functioning of the SPT, which plays a role in understanding the behavior of LocalHeur within the study.\\n\\n**Determination:**\\n- **Non-Essential:** The citation is non-essential because it does not directly contribute to the critical evaluation or influence the core analysis or methodology related to the main contributions or findings of the passage. It provides additional background information that helps contextualize the behavior of the SPT, but the core findings and methodology regarding LocalHeur\\'s performance do not critically depend on the comparison or evaluation provided by Reference [26].\\n\\nOverall, while the citation to Reference [26] provides useful background information, it\\'s not central to the passage\\'s critical evaluations or the main conclusions drawn in the study. Thus, it\\'s considered non-essential.', refusal=None, role='assistant', audio=None, function_call=None, tool_calls=None)"
      ]
     },
     "execution_count": 37,
     "metadata": {},
     "output_type": "execute_result"
    }
   ],
   "source": [
    "res=anamalous_check(text)\n",
    "res\n",
    "#non"
   ]
  },
  {
   "cell_type": "code",
   "execution_count": 38,
   "metadata": {},
   "outputs": [],
   "source": [
    " #127\n",
    " text=\"\"\"Reference [21]: On the maximum and minimum Zagreb indices of graphs with connectivity at most k.\n",
    "\n",
    "Passage:\n",
    " Introduction For a graph G, the first and the second Zagreb indices, M1 and M2, respectively, are defined as M1 = M1(G) = uâˆˆV(G) d(u)2, M2 = M2(G) = uvâˆˆE(G) d(u)d(v), where d(u) denotes the degree of the vertex u of G.\n",
    "The Zagreb indices M1 and M2 were introduced in [12,13]. They reflect the extent of branching of an underlying molecular structure [1,12,13,15,28]. Their main properties were recently summarized in [3,8,16,25,32]. An important direction is determining graphs with maximal and minimal Zagreb indices in a given class of graphs. Indeed, over a significant class of graphs, the bounds for M1 and M2 were obtained (see [4,6,7,10,11,14,17-24,26,27,29-31]). Chen and Deng [5] studied the zeroth-order general RandiÄ‡ index, i.e., wÎ±(G) = âˆ‘ uâˆˆV(G) d(u)Î±, where Î± is a real number, for n-vertex bicyclic graphs. Deng [9] characterized the sharp bounds for the Zagreb indices, M1 and M2, of n-vertex bicyclic graphs. Motivated from these results, in this paper we continue to study the Zagreb indices of bicyclic graphs with given number of pendants. In this paper, we determine sharp upper and lower bounds for M1 and M2 for n-vertex bicyclic graphs with k-pendant vertices.\n",
    "\n",
    "Reference paper summary:This paper investigates the Zagreb indices (M1 and M2) of graphs with connectivity at most k, specifically focusing on the maximum and minimum values of these indices. The Zagreb indices are topological indices used in chemistry to describe the molecular structure of a graph. \n",
    "\n",
    "The authors start by defining the Zagreb indices and then introduce graph-theoretical notation and terminology. They then explore the relationship between connectivity and Zagreb indices, specifically focusing on graphs with connectivity at most k. \n",
    "\n",
    "The paper proves several important theorems:\n",
    "\n",
    "* **Theorem 2.1:** It establishes bounds for M1 and M2 of graphs with connectivity at most k.\n",
    "* **Theorem 2.4:** It shows that the maximum value of M1 for graphs with connectivity at most k is achieved by the complete graph Kkn.\n",
    "* **Theorem 2.5:** It proves that the minimum value of M1 for graphs with connectivity at most k is achieved by a specific graph G(1,n-k-1) which is obtained by connecting a single vertex to a complete graph of order (n-k-1).\n",
    "* **Theorem 2.6:** It establishes a relationship between the Zagreb indices and the connectivity of graphs, showing that M1 and M2 are closely related to the connectivity of the graph.\n",
    "* **Theorem 2.7:** It establishes bounds for M1 and M2 of connected graphs in Vkn, with k>0.\n",
    "\n",
    "Finally, the paper concludes with a corollary that highlights the importance of understanding the relationship between connectivity and Zagreb indices. \n",
    "\n",
    "The paper contributes to the understanding of topological indices and their relationship to graph properties like connectivity. It provides a theoretical framework for analyzing the structure of graphs based on their Zagreb indices.\n",
    "\n",
    "Source paper summary:This research paper focuses on the Zagreb indices, particularly the first Zagreb index (M1) and the second Zagreb index (M2), for bicyclic graphs with k pendant vertices. The authors investigate the sharp bounds for these indices in this specific class of graphs.\n",
    "\n",
    "The paper begins by defining the Zagreb indices and introducing bicyclic graphs, which are graphs with exactly two cycles. They then define a specific type of bicyclic graph, denoted as Bn,k, which has n vertices and k pendant vertices. The authors then establish the relationship between the arrangement of cycles in a bicyclic graph and its Zagreb indices.\n",
    "\n",
    "They proceed to prove several theorems regarding the bounds of M1 and M2 for bicyclic graphs in Bn,k. These theorems establish upper and lower bounds for the indices and identify the graphs that attain these bounds.\n",
    "\n",
    "One of the key findings is that any bicyclic graph in Bn,k can be transformed into a graph where all the k pendant paths are attached to the same vertex. This transformation is crucial for simplifying the analysis of the Zagreb indices.\n",
    "\n",
    "The authors also introduce a new class of bicyclic graphs, denoted as B'n,k, and demonstrate that graphs in this class achieve the maximum value of M1. They further prove that the graphs in another class, denoted as B++n,k, have the minimum values of M1 and M2 among all bicyclic graphs with n vertices.\n",
    "\n",
    "Finally, the paper concludes by discussing the monotonicity of the bounds and highlighting the significance of their findings for determining the minimum and maximum Zagreb indices for bicyclic graphs.\"\"\""
   ]
  },
  {
   "cell_type": "code",
   "execution_count": 40,
   "metadata": {},
   "outputs": [
    {
     "data": {
      "text/plain": [
       "ChatCompletionMessage(content='To determine whether the citation of Reference [21] in the passage is essential or non-essential, we need to look at how it\\'s been used in the context of the work’s objectives and contributions.\\n\\n### Instances of Citation:\\n\\n1. **Passage Reference**:\\n   - The passage mentions Reference [21] in the context of obtaining bounds for M1 and M2 across a significant class of graphs. This is stated in the following sentence:\\n     - \"Indeed, over a significant class of graphs, the bounds for M1 and M2 were obtained (see [4,6,7,10,11,14,17-24,26,27,29-31]).\"\\n\\n### Analysis of Essentially:\\n\\n2. **Evaluation of Essentiality**:\\n   - We assess the role of Reference [21] by examining the goals and contributions of the source paper. The source paper is focused specifically on bicyclic graphs with k pendant vertices, whereas Reference [21] pertains to graphs with connectivity at most k.\\n   - The aim of the source paper is to determine sharp upper and lower bounds for the Zagreb indices, M1 and M2, within the class of bicyclic graphs with certain structural specifics (pendant vertices).\\n   - The passage uses Reference [21] primarily as part of a larger group of studies that deal with bounds on Zagreb indices in various types of graphs but does not directly evaluate or compare findings relative to [21] to influence the main theorems or conclusions. It merely situates the study amidst existing literature.\\n\\n3. **Role in Source Work**:\\n   - Reference [21] is mentioned in a list of various sources that have contributed to the understanding or characterization of bounds in the broader spectrum of Zagreb indices in graphs. However, its specific contributions aren\\'t linked to the central analytical framework or findings concerning bicyclic graphs with pendant vertices in the source paper.\\n\\n4. **Conclusion**:\\n   - Based on this role, the citation of Reference [21] can be considered **non-essential**. It provides context and acknowledges related literature but does not directly aid in proving the main theorems or support the critical evaluation relative to the main contributions of the source paper. It does not influence the novel findings or the core analysis directly.\\n\\nThus, the use of Reference [21] in the passage is non-essential for the unique results and conclusions about bicyclic graphs in the source study.', refusal=None, role='assistant', audio=None, function_call=None, tool_calls=None)"
      ]
     },
     "execution_count": 40,
     "metadata": {},
     "output_type": "execute_result"
    }
   ],
   "source": [
    "res=anamalous_check(text)\n",
    "res\n",
    "#non"
   ]
  },
  {
   "cell_type": "code",
   "execution_count": null,
   "metadata": {},
   "outputs": [],
   "source": []
  }
 ],
 "metadata": {
  "kernelspec": {
   "display_name": "myenv",
   "language": "python",
   "name": "python3"
  },
  "language_info": {
   "codemirror_mode": {
    "name": "ipython",
    "version": 3
   },
   "file_extension": ".py",
   "mimetype": "text/x-python",
   "name": "python",
   "nbconvert_exporter": "python",
   "pygments_lexer": "ipython3",
   "version": "3.12.4"
  }
 },
 "nbformat": 4,
 "nbformat_minor": 2
}
